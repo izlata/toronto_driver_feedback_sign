{
 "cells": [
  {
   "cell_type": "markdown",
   "metadata": {},
   "source": [
    "## Watch Your Speed Program (WYSP) - Driver Feedback Sign # 627 in School Safety Zone"
   ]
  },
  {
   "cell_type": "markdown",
   "metadata": {},
   "source": [
    "## Notebook 2 - Data transformation, model training and evaluation"
   ]
  },
  {
   "cell_type": "code",
   "execution_count": 1,
   "metadata": {},
   "outputs": [],
   "source": [
    "import numpy as np\n",
    "import pandas as pd\n",
    "\n",
    "%matplotlib inline\n",
    "import matplotlib\n",
    "import matplotlib.pyplot as plt\n",
    "import seaborn as sns\n",
    "\n",
    "np.random.seed(42)"
   ]
  },
  {
   "cell_type": "markdown",
   "metadata": {},
   "source": [
    "### Load the training and test sets"
   ]
  },
  {
   "cell_type": "code",
   "execution_count": 2,
   "metadata": {},
   "outputs": [
    {
     "name": "stdout",
     "output_type": "stream",
     "text": [
      "(7956, 4)\n"
     ]
    },
    {
     "data": {
      "text/html": [
       "<div>\n",
       "<style scoped>\n",
       "    .dataframe tbody tr th:only-of-type {\n",
       "        vertical-align: middle;\n",
       "    }\n",
       "\n",
       "    .dataframe tbody tr th {\n",
       "        vertical-align: top;\n",
       "    }\n",
       "\n",
       "    .dataframe thead th {\n",
       "        text-align: right;\n",
       "    }\n",
       "</style>\n",
       "<table border=\"1\" class=\"dataframe\">\n",
       "  <thead>\n",
       "    <tr style=\"text-align: right;\">\n",
       "      <th></th>\n",
       "      <th>hour</th>\n",
       "      <th>day_of_week</th>\n",
       "      <th>month</th>\n",
       "      <th>over_40</th>\n",
       "    </tr>\n",
       "  </thead>\n",
       "  <tbody>\n",
       "    <tr>\n",
       "      <th>3769</th>\n",
       "      <td>13</td>\n",
       "      <td>5</td>\n",
       "      <td>6</td>\n",
       "      <td>139</td>\n",
       "    </tr>\n",
       "    <tr>\n",
       "      <th>6458</th>\n",
       "      <td>12</td>\n",
       "      <td>6</td>\n",
       "      <td>9</td>\n",
       "      <td>137</td>\n",
       "    </tr>\n",
       "    <tr>\n",
       "      <th>3638</th>\n",
       "      <td>2</td>\n",
       "      <td>0</td>\n",
       "      <td>6</td>\n",
       "      <td>12</td>\n",
       "    </tr>\n",
       "    <tr>\n",
       "      <th>8069</th>\n",
       "      <td>18</td>\n",
       "      <td>3</td>\n",
       "      <td>12</td>\n",
       "      <td>145</td>\n",
       "    </tr>\n",
       "    <tr>\n",
       "      <th>3398</th>\n",
       "      <td>18</td>\n",
       "      <td>3</td>\n",
       "      <td>5</td>\n",
       "      <td>154</td>\n",
       "    </tr>\n",
       "  </tbody>\n",
       "</table>\n",
       "</div>"
      ],
      "text/plain": [
       "      hour  day_of_week  month  over_40\n",
       "3769    13            5      6      139\n",
       "6458    12            6      9      137\n",
       "3638     2            0      6       12\n",
       "8069    18            3     12      145\n",
       "3398    18            3      5      154"
      ]
     },
     "execution_count": 2,
     "metadata": {},
     "output_type": "execute_result"
    }
   ],
   "source": [
    "# Read the training set\n",
    "\n",
    "train_set = pd.read_csv('data_wysp/train_set.csv', index_col=0)\n",
    "print(train_set.shape)\n",
    "train_set.head()"
   ]
  },
  {
   "cell_type": "code",
   "execution_count": 3,
   "metadata": {},
   "outputs": [
    {
     "name": "stdout",
     "output_type": "stream",
     "text": [
      "(1990, 4)\n"
     ]
    },
    {
     "data": {
      "text/html": [
       "<div>\n",
       "<style scoped>\n",
       "    .dataframe tbody tr th:only-of-type {\n",
       "        vertical-align: middle;\n",
       "    }\n",
       "\n",
       "    .dataframe tbody tr th {\n",
       "        vertical-align: top;\n",
       "    }\n",
       "\n",
       "    .dataframe thead th {\n",
       "        text-align: right;\n",
       "    }\n",
       "</style>\n",
       "<table border=\"1\" class=\"dataframe\">\n",
       "  <thead>\n",
       "    <tr style=\"text-align: right;\">\n",
       "      <th></th>\n",
       "      <th>hour</th>\n",
       "      <th>day_of_week</th>\n",
       "      <th>month</th>\n",
       "      <th>over_40</th>\n",
       "    </tr>\n",
       "  </thead>\n",
       "  <tbody>\n",
       "    <tr>\n",
       "      <th>6590</th>\n",
       "      <td>0</td>\n",
       "      <td>5</td>\n",
       "      <td>10</td>\n",
       "      <td>15</td>\n",
       "    </tr>\n",
       "    <tr>\n",
       "      <th>4300</th>\n",
       "      <td>16</td>\n",
       "      <td>6</td>\n",
       "      <td>6</td>\n",
       "      <td>130</td>\n",
       "    </tr>\n",
       "    <tr>\n",
       "      <th>9773</th>\n",
       "      <td>18</td>\n",
       "      <td>4</td>\n",
       "      <td>2</td>\n",
       "      <td>122</td>\n",
       "    </tr>\n",
       "    <tr>\n",
       "      <th>5041</th>\n",
       "      <td>13</td>\n",
       "      <td>2</td>\n",
       "      <td>7</td>\n",
       "      <td>140</td>\n",
       "    </tr>\n",
       "    <tr>\n",
       "      <th>4351</th>\n",
       "      <td>19</td>\n",
       "      <td>1</td>\n",
       "      <td>7</td>\n",
       "      <td>73</td>\n",
       "    </tr>\n",
       "  </tbody>\n",
       "</table>\n",
       "</div>"
      ],
      "text/plain": [
       "      hour  day_of_week  month  over_40\n",
       "6590     0            5     10       15\n",
       "4300    16            6      6      130\n",
       "9773    18            4      2      122\n",
       "5041    13            2      7      140\n",
       "4351    19            1      7       73"
      ]
     },
     "execution_count": 3,
     "metadata": {},
     "output_type": "execute_result"
    }
   ],
   "source": [
    "# Read the test set\n",
    "\n",
    "test_set = pd.read_csv('data_wysp/test_set.csv', index_col=0)\n",
    "print(test_set.shape)\n",
    "test_set.head()"
   ]
  },
  {
   "cell_type": "code",
   "execution_count": 4,
   "metadata": {},
   "outputs": [
    {
     "name": "stdout",
     "output_type": "stream",
     "text": [
      "(7956, 3)\n",
      "(1990, 3)\n"
     ]
    }
   ],
   "source": [
    "# Separate the predictors and the labels in the training and test sets\n",
    "\n",
    "X_train = train_set.drop('over_40', axis=1)\n",
    "y_train = train_set['over_40'].copy()\n",
    "\n",
    "X_test = test_set.drop('over_40', axis=1)\n",
    "y_test = test_set['over_40'].copy()\n",
    "\n",
    "print(X_train.shape)\n",
    "print(X_test.shape)"
   ]
  },
  {
   "cell_type": "markdown",
   "metadata": {},
   "source": [
    "### One-hot encoding of categorical attributes"
   ]
  },
  {
   "cell_type": "code",
   "execution_count": 5,
   "metadata": {},
   "outputs": [],
   "source": [
    "from sklearn.compose import ColumnTransformer\n",
    "from sklearn.preprocessing import OneHotEncoder\n",
    "from sklearn.pipeline import Pipeline"
   ]
  },
  {
   "cell_type": "code",
   "execution_count": 6,
   "metadata": {},
   "outputs": [],
   "source": [
    "# Categorical attributes\n",
    "cat_attribs = ['hour', 'day_of_week', 'month']\n",
    "\n",
    "# Create a pipeline for transforming categorical attributes using OneHotEncoder\n",
    "pipeline = ColumnTransformer([\n",
    "        ('cat', OneHotEncoder(), cat_attribs),\n",
    "    ])"
   ]
  },
  {
   "cell_type": "code",
   "execution_count": 7,
   "metadata": {},
   "outputs": [
    {
     "name": "stdout",
     "output_type": "stream",
     "text": [
      "(7956, 43)\n",
      "(1990, 43)\n"
     ]
    }
   ],
   "source": [
    "# Apply the transformations\n",
    "\n",
    "X_train_prepared = pipeline.fit_transform(X_train)\n",
    "print(X_train_prepared.shape)\n",
    "\n",
    "X_test_prepared = pipeline.transform(X_test)\n",
    "print(X_test_prepared.shape)"
   ]
  },
  {
   "cell_type": "markdown",
   "metadata": {},
   "source": [
    "## Training Different Regression Models"
   ]
  },
  {
   "cell_type": "markdown",
   "metadata": {},
   "source": [
    "### Linear Regression Model"
   ]
  },
  {
   "cell_type": "code",
   "execution_count": 8,
   "metadata": {},
   "outputs": [
    {
     "data": {
      "text/plain": [
       "LinearRegression(copy_X=True, fit_intercept=True, n_jobs=None, normalize=False)"
      ]
     },
     "execution_count": 8,
     "metadata": {},
     "output_type": "execute_result"
    }
   ],
   "source": [
    "# Train a Linear Regression model\n",
    "\n",
    "from sklearn.linear_model import LinearRegression\n",
    "\n",
    "lin_reg = LinearRegression()\n",
    "lin_reg.fit(X_train_prepared, y_train)"
   ]
  },
  {
   "cell_type": "code",
   "execution_count": 9,
   "metadata": {},
   "outputs": [],
   "source": [
    "# Function to evaluate the model and compute the RMSE\n",
    "\n",
    "from sklearn.metrics import mean_squared_error\n",
    "\n",
    "def compute_rmse(model, X, y):\n",
    "    y_pred = model.predict(X)\n",
    "    mse = mean_squared_error(y, y_pred)\n",
    "    rmse = np.sqrt(mse)\n",
    "    return rmse"
   ]
  },
  {
   "cell_type": "code",
   "execution_count": 10,
   "metadata": {},
   "outputs": [
    {
     "data": {
      "text/plain": [
       "23.261613643275805"
      ]
     },
     "execution_count": 10,
     "metadata": {},
     "output_type": "execute_result"
    }
   ],
   "source": [
    "# Training error (RMSE) for the Linear Regression model\n",
    "\n",
    "lin_rmse = compute_rmse(lin_reg, X_train_prepared, y_train)\n",
    "lin_rmse"
   ]
  },
  {
   "cell_type": "code",
   "execution_count": 11,
   "metadata": {},
   "outputs": [],
   "source": [
    "# Function to display the cross-validation scores\n",
    "\n",
    "def display_scores(scores):\n",
    "    print(\"Scores:\", scores)\n",
    "    print(\"Mean:\", scores.mean())\n",
    "    print(\"Standard deviation:\", scores.std())"
   ]
  },
  {
   "cell_type": "code",
   "execution_count": 12,
   "metadata": {},
   "outputs": [
    {
     "name": "stdout",
     "output_type": "stream",
     "text": [
      "Scores: [23.93456971 22.81244319 23.14480958 23.52923477 23.63216274]\n",
      "Mean: 23.410643999238772\n",
      "Standard deviation: 0.3914446627437074\n"
     ]
    }
   ],
   "source": [
    "# Evaluation using cross-validation\n",
    "\n",
    "from sklearn.model_selection import cross_val_score\n",
    "\n",
    "lin_scores = cross_val_score(lin_reg, X_train_prepared, y_train, \n",
    "                             scoring=\"neg_mean_squared_error\", cv=5)\n",
    "\n",
    "lin_rmse_scores = np.sqrt(-lin_scores)\n",
    "display_scores(lin_rmse_scores)"
   ]
  },
  {
   "cell_type": "markdown",
   "metadata": {},
   "source": [
    "### Lasso Regression Model"
   ]
  },
  {
   "cell_type": "code",
   "execution_count": 13,
   "metadata": {},
   "outputs": [
    {
     "data": {
      "text/plain": [
       "GridSearchCV(cv=5, error_score=nan,\n",
       "             estimator=Lasso(alpha=1.0, copy_X=True, fit_intercept=True,\n",
       "                             max_iter=1000, normalize=False, positive=False,\n",
       "                             precompute=False, random_state=42,\n",
       "                             selection='cyclic', tol=0.05, warm_start=False),\n",
       "             iid='deprecated', n_jobs=None,\n",
       "             param_grid=[{'alpha': [0.001, 0.01, 0.1, 1, 10]}],\n",
       "             pre_dispatch='2*n_jobs', refit=True, return_train_score=False,\n",
       "             scoring='neg_mean_squared_error', verbose=0)"
      ]
     },
     "execution_count": 13,
     "metadata": {},
     "output_type": "execute_result"
    }
   ],
   "source": [
    "# GridSearchCV for the Lasso Regression model\n",
    "\n",
    "from sklearn.linear_model import Lasso\n",
    "from sklearn.model_selection import GridSearchCV\n",
    "\n",
    "lasso_reg = Lasso(tol=0.05, random_state=42)\n",
    "\n",
    "param_grid = [{'alpha': [0.001, 0.01, 0.1, 1, 10]}]\n",
    "\n",
    "grid_search_lasso = GridSearchCV(lasso_reg, param_grid, cv=5, scoring='neg_mean_squared_error')\n",
    "\n",
    "grid_search_lasso.fit(X_train_prepared, y_train)"
   ]
  },
  {
   "cell_type": "code",
   "execution_count": 14,
   "metadata": {},
   "outputs": [
    {
     "name": "stdout",
     "output_type": "stream",
     "text": [
      "{'alpha': 0.01}\n",
      "23.41343018399424\n"
     ]
    }
   ],
   "source": [
    "# The best parameter and the corresponding mean RMSE score (for cross-validation)\n",
    "\n",
    "print(grid_search_lasso.best_params_)\n",
    "print(np.sqrt(-grid_search_lasso.best_score_))"
   ]
  },
  {
   "cell_type": "code",
   "execution_count": 15,
   "metadata": {},
   "outputs": [
    {
     "name": "stdout",
     "output_type": "stream",
     "text": [
      "23.262807188153584\n"
     ]
    }
   ],
   "source": [
    "# The best Lasso model\n",
    "best_lasso = grid_search_lasso.best_estimator_\n",
    "\n",
    "# Training error\n",
    "lasso_rmse = compute_rmse(best_lasso, X_train_prepared, y_train)\n",
    "print(lasso_rmse)"
   ]
  },
  {
   "cell_type": "markdown",
   "metadata": {},
   "source": [
    "The training and cross-validation RMSEs for Lasso Regression (alpha=0.01) are almost the same as the corresponding results for Linear Regression."
   ]
  },
  {
   "cell_type": "markdown",
   "metadata": {},
   "source": [
    "### Ridge Regression Model"
   ]
  },
  {
   "cell_type": "code",
   "execution_count": 16,
   "metadata": {},
   "outputs": [
    {
     "data": {
      "text/plain": [
       "GridSearchCV(cv=5, error_score=nan,\n",
       "             estimator=Ridge(alpha=1.0, copy_X=True, fit_intercept=True,\n",
       "                             max_iter=None, normalize=False, random_state=42,\n",
       "                             solver='auto', tol=0.001),\n",
       "             iid='deprecated', n_jobs=None,\n",
       "             param_grid=[{'alpha': [0.001, 0.01, 0.1, 1, 10]}],\n",
       "             pre_dispatch='2*n_jobs', refit=True, return_train_score=False,\n",
       "             scoring='neg_mean_squared_error', verbose=0)"
      ]
     },
     "execution_count": 16,
     "metadata": {},
     "output_type": "execute_result"
    }
   ],
   "source": [
    "# GridSearchCV for the Ridge Regression model\n",
    "\n",
    "from sklearn.linear_model import Ridge\n",
    "\n",
    "ridge_reg = Ridge(random_state=42)\n",
    "\n",
    "param_grid = [{'alpha': [0.001, 0.01, 0.1, 1, 10]}]\n",
    "\n",
    "grid_search_ridge = GridSearchCV(ridge_reg, param_grid, cv=5, scoring='neg_mean_squared_error')\n",
    "\n",
    "grid_search_ridge.fit(X_train_prepared, y_train)"
   ]
  },
  {
   "cell_type": "code",
   "execution_count": 17,
   "metadata": {},
   "outputs": [
    {
     "name": "stdout",
     "output_type": "stream",
     "text": [
      "{'alpha': 0.1}\n",
      "23.413630222120528\n"
     ]
    }
   ],
   "source": [
    "# The best parameter and the corresponding mean RMSE score (for cross-validation)\n",
    "\n",
    "print(grid_search_ridge.best_params_)\n",
    "print(np.sqrt(-grid_search_ridge.best_score_))"
   ]
  },
  {
   "cell_type": "code",
   "execution_count": 18,
   "metadata": {},
   "outputs": [
    {
     "name": "stdout",
     "output_type": "stream",
     "text": [
      "23.26162121735754\n"
     ]
    }
   ],
   "source": [
    "# The best Ridge model\n",
    "best_ridge = grid_search_ridge.best_estimator_\n",
    "\n",
    "# Training error\n",
    "ridge_rmse = compute_rmse(best_ridge, X_train_prepared, y_train)\n",
    "print(ridge_rmse)"
   ]
  },
  {
   "cell_type": "markdown",
   "metadata": {},
   "source": [
    "The training and cross-validation RMSEs for Ridge Regression (alpha=0.1) are almost the same as the corresponding results for Linear Regression."
   ]
  },
  {
   "cell_type": "markdown",
   "metadata": {},
   "source": [
    "### Polynomial Regression Model (degree=2)"
   ]
  },
  {
   "cell_type": "code",
   "execution_count": 19,
   "metadata": {},
   "outputs": [
    {
     "data": {
      "text/plain": [
       "LinearRegression(copy_X=True, fit_intercept=True, n_jobs=None, normalize=False)"
      ]
     },
     "execution_count": 19,
     "metadata": {},
     "output_type": "execute_result"
    }
   ],
   "source": [
    "# Polynomial Regression (degree=2)\n",
    "\n",
    "from sklearn.preprocessing import PolynomialFeatures\n",
    "\n",
    "poly_features= PolynomialFeatures(degree=2, include_bias=False)\n",
    "X_train_poly = poly_features.fit_transform(X_train_prepared)\n",
    "\n",
    "poly_reg = LinearRegression()\n",
    "poly_reg.fit(X_train_poly, y_train)"
   ]
  },
  {
   "cell_type": "code",
   "execution_count": 20,
   "metadata": {},
   "outputs": [
    {
     "name": "stdout",
     "output_type": "stream",
     "text": [
      "17.414330190004154\n"
     ]
    }
   ],
   "source": [
    "# Training error\n",
    "\n",
    "poly_rmse = compute_rmse(poly_reg, poly_features.transform(X_train_prepared), y_train)\n",
    "print(poly_rmse)"
   ]
  },
  {
   "cell_type": "code",
   "execution_count": 21,
   "metadata": {},
   "outputs": [
    {
     "name": "stdout",
     "output_type": "stream",
     "text": [
      "Scores: [19.18824642 17.96383187 18.48036291 19.29456355 18.26592065]\n",
      "Mean: 18.638585080730927\n",
      "Standard deviation: 0.5199308147062408\n"
     ]
    }
   ],
   "source": [
    "# Evaluation using cross-validation\n",
    "\n",
    "poly_scores = cross_val_score(poly_reg, X_train_poly, y_train,\n",
    "                              scoring=\"neg_mean_squared_error\", cv=5)\n",
    "\n",
    "poly_rmse_scores = np.sqrt(-poly_scores)\n",
    "display_scores(poly_rmse_scores)"
   ]
  },
  {
   "cell_type": "markdown",
   "metadata": {},
   "source": [
    "The training and cross-validation RMSEs for Polynomial Regression (degree=2) are lower than the corresponding errors for Linear Regression."
   ]
  },
  {
   "cell_type": "markdown",
   "metadata": {},
   "source": [
    "### Linear SVM Regression"
   ]
  },
  {
   "cell_type": "code",
   "execution_count": 22,
   "metadata": {},
   "outputs": [
    {
     "data": {
      "text/plain": [
       "LinearSVR(C=1.0, dual=True, epsilon=0.0, fit_intercept=True,\n",
       "          intercept_scaling=1.0, loss='epsilon_insensitive', max_iter=1000,\n",
       "          random_state=42, tol=0.0001, verbose=0)"
      ]
     },
     "execution_count": 22,
     "metadata": {},
     "output_type": "execute_result"
    }
   ],
   "source": [
    "# Linear SVM Regression\n",
    "\n",
    "from sklearn.svm import LinearSVR\n",
    "\n",
    "svm_reg = LinearSVR(random_state=42)\n",
    "svm_reg.fit(X_train_prepared, y_train)"
   ]
  },
  {
   "cell_type": "code",
   "execution_count": 23,
   "metadata": {},
   "outputs": [
    {
     "name": "stdout",
     "output_type": "stream",
     "text": [
      "23.919531677174493\n"
     ]
    }
   ],
   "source": [
    "# Training error\n",
    "\n",
    "svm_rmse = compute_rmse(svm_reg, X_train_prepared, y_train)\n",
    "print(svm_rmse)"
   ]
  },
  {
   "cell_type": "code",
   "execution_count": 24,
   "metadata": {},
   "outputs": [
    {
     "name": "stdout",
     "output_type": "stream",
     "text": [
      "Scores: [24.15478999 23.70870846 24.35711295 24.17734697 24.48095648]\n",
      "Mean: 24.17578297199417\n",
      "Standard deviation: 0.2625312120956695\n"
     ]
    }
   ],
   "source": [
    "# Evaluation using cross-validation\n",
    "\n",
    "svm_scores = cross_val_score(svm_reg, X_train_prepared, y_train,\n",
    "                             scoring=\"neg_mean_squared_error\", cv=5)\n",
    "\n",
    "svm_rmse_scores = np.sqrt(-svm_scores)\n",
    "display_scores(svm_rmse_scores)"
   ]
  },
  {
   "cell_type": "markdown",
   "metadata": {},
   "source": [
    "The results are slightly worse than the results for the Linear Regression model."
   ]
  },
  {
   "cell_type": "markdown",
   "metadata": {},
   "source": [
    "### SVM Regression using a second-degree polynomial kernel"
   ]
  },
  {
   "cell_type": "code",
   "execution_count": 25,
   "metadata": {},
   "outputs": [
    {
     "data": {
      "text/plain": [
       "SVR(C=1.0, cache_size=200, coef0=0.0, degree=2, epsilon=0.1, gamma='scale',\n",
       "    kernel='poly', max_iter=-1, shrinking=True, tol=0.001, verbose=False)"
      ]
     },
     "execution_count": 25,
     "metadata": {},
     "output_type": "execute_result"
    }
   ],
   "source": [
    "# SVM Regression using a second-degree polynomial kernel\n",
    "\n",
    "from sklearn.svm import SVR\n",
    "\n",
    "svm_poly_reg = SVR(kernel=\"poly\", degree=2)\n",
    "svm_poly_reg.fit(X_train_prepared, y_train)"
   ]
  },
  {
   "cell_type": "code",
   "execution_count": 26,
   "metadata": {},
   "outputs": [
    {
     "name": "stdout",
     "output_type": "stream",
     "text": [
      "26.728868418204488\n"
     ]
    }
   ],
   "source": [
    "# Training error\n",
    "\n",
    "svm_poly_rmse = compute_rmse(svm_poly_reg, X_train_prepared, y_train)\n",
    "print(svm_poly_rmse)"
   ]
  },
  {
   "cell_type": "code",
   "execution_count": 27,
   "metadata": {},
   "outputs": [
    {
     "name": "stdout",
     "output_type": "stream",
     "text": [
      "Scores: [29.80778118 29.7805617  30.92374316 28.42543211 29.55228809]\n",
      "Mean: 29.697961247404145\n",
      "Standard deviation: 0.795232749826088\n"
     ]
    }
   ],
   "source": [
    "# Evaluation using cross-validation\n",
    "\n",
    "svm_poly_scores = cross_val_score(svm_poly_reg, X_train_prepared, y_train,\n",
    "                                  scoring=\"neg_mean_squared_error\", cv=5)\n",
    "\n",
    "svm_poly_rmse_scores = np.sqrt(-svm_poly_scores)\n",
    "display_scores(svm_poly_rmse_scores)"
   ]
  },
  {
   "cell_type": "markdown",
   "metadata": {},
   "source": [
    "The RMSE values are larger than the errors for the previous models."
   ]
  },
  {
   "cell_type": "markdown",
   "metadata": {},
   "source": [
    "### XGBoost Regression Model"
   ]
  },
  {
   "cell_type": "code",
   "execution_count": 28,
   "metadata": {},
   "outputs": [
    {
     "data": {
      "text/plain": [
       "XGBRegressor(base_score=0.5, booster='gbtree', colsample_bylevel=1,\n",
       "             colsample_bynode=1, colsample_bytree=1, gamma=0,\n",
       "             importance_type='gain', learning_rate=0.1, max_delta_step=0,\n",
       "             max_depth=3, min_child_weight=1, missing=None, n_estimators=100,\n",
       "             n_jobs=1, nthread=None, objective='reg:squarederror',\n",
       "             random_state=42, reg_alpha=0, reg_lambda=1, scale_pos_weight=1,\n",
       "             seed=None, silent=None, subsample=1, verbosity=1)"
      ]
     },
     "execution_count": 28,
     "metadata": {},
     "output_type": "execute_result"
    }
   ],
   "source": [
    "# XGBRegressor with standard hyperparameters\n",
    "\n",
    "from xgboost.sklearn import XGBRegressor\n",
    "\n",
    "xgb_reg = XGBRegressor(objective='reg:squarederror', random_state=42)\n",
    "xgb_reg.fit(X_train_prepared, y_train)"
   ]
  },
  {
   "cell_type": "code",
   "execution_count": 29,
   "metadata": {},
   "outputs": [
    {
     "data": {
      "text/plain": [
       "23.313683831571765"
      ]
     },
     "execution_count": 29,
     "metadata": {},
     "output_type": "execute_result"
    }
   ],
   "source": [
    "# Training error\n",
    "\n",
    "xgb_rmse = compute_rmse(xgb_reg, X_train_prepared, y_train)\n",
    "xgb_rmse"
   ]
  },
  {
   "cell_type": "code",
   "execution_count": 30,
   "metadata": {},
   "outputs": [
    {
     "name": "stdout",
     "output_type": "stream",
     "text": [
      "Scores: [23.8497062  23.48111302 23.22468086 23.51932096 23.63233642]\n",
      "Mean: 23.54143149288155\n",
      "Standard deviation: 0.20384070196159482\n"
     ]
    }
   ],
   "source": [
    "# Cross-validation\n",
    "\n",
    "xgb_scores = cross_val_score(xgb_reg, X_train_prepared, y_train, \n",
    "                             scoring=\"neg_mean_squared_error\", cv=5)\n",
    "\n",
    "xgb_rmse_scores = np.sqrt(-xgb_scores)\n",
    "display_scores(xgb_rmse_scores)"
   ]
  },
  {
   "cell_type": "markdown",
   "metadata": {},
   "source": [
    "The results for the XGBoost Regression are very close to the results for the Linear Regression model."
   ]
  },
  {
   "cell_type": "markdown",
   "metadata": {},
   "source": [
    "### Random Forest Regression Model"
   ]
  },
  {
   "cell_type": "code",
   "execution_count": 31,
   "metadata": {},
   "outputs": [
    {
     "data": {
      "text/plain": [
       "RandomForestRegressor(bootstrap=True, ccp_alpha=0.0, criterion='mse',\n",
       "                      max_depth=None, max_features='auto', max_leaf_nodes=None,\n",
       "                      max_samples=None, min_impurity_decrease=0.0,\n",
       "                      min_impurity_split=None, min_samples_leaf=1,\n",
       "                      min_samples_split=2, min_weight_fraction_leaf=0.0,\n",
       "                      n_estimators=100, n_jobs=None, oob_score=False,\n",
       "                      random_state=42, verbose=0, warm_start=False)"
      ]
     },
     "execution_count": 31,
     "metadata": {},
     "output_type": "execute_result"
    }
   ],
   "source": [
    "# Random Forest Regressor with standard hyperparameters\n",
    "\n",
    "from sklearn.ensemble import RandomForestRegressor\n",
    "\n",
    "forest_reg = RandomForestRegressor(random_state=42)\n",
    "forest_reg.fit(X_train_prepared, y_train)"
   ]
  },
  {
   "cell_type": "code",
   "execution_count": 32,
   "metadata": {},
   "outputs": [
    {
     "name": "stdout",
     "output_type": "stream",
     "text": [
      "15.900884440550868\n"
     ]
    }
   ],
   "source": [
    "# Training error\n",
    "\n",
    "forest_rmse = compute_rmse(forest_reg, X_train_prepared, y_train)\n",
    "print(forest_rmse)"
   ]
  },
  {
   "cell_type": "code",
   "execution_count": 33,
   "metadata": {},
   "outputs": [
    {
     "name": "stdout",
     "output_type": "stream",
     "text": [
      "Scores: [21.85699732 20.05412815 20.55477718 22.21478655 20.28883301]\n",
      "Mean: 20.99390444187859\n",
      "Standard deviation: 0.8727680577345062\n"
     ]
    }
   ],
   "source": [
    "# Cross-validation\n",
    "\n",
    "forest_scores = cross_val_score(forest_reg, X_train_prepared, y_train,\n",
    "                                scoring=\"neg_mean_squared_error\", cv=5)\n",
    "\n",
    "forest_rmse_scores = np.sqrt(-forest_scores)\n",
    "display_scores(forest_rmse_scores)"
   ]
  },
  {
   "cell_type": "markdown",
   "metadata": {},
   "source": [
    "The cross-validation RMSE (20.99) is smaller than the corresponding values for most other models (only the polynomyal regression model showed better result - 18.64).\n",
    "\n",
    "The error on the training set (15.90) is much lower than on the validation sets (20.99), this random forest model is overfitting the training set. \n",
    "\n",
    "Next, I will try to regularize the model using the 'min_samples_leaf' hyperparameter.\n"
   ]
  },
  {
   "cell_type": "markdown",
   "metadata": {},
   "source": [
    "### Tune the Random Forest model:"
   ]
  },
  {
   "cell_type": "code",
   "execution_count": 34,
   "metadata": {},
   "outputs": [
    {
     "data": {
      "text/plain": [
       "GridSearchCV(cv=5, error_score=nan,\n",
       "             estimator=RandomForestRegressor(bootstrap=True, ccp_alpha=0.0,\n",
       "                                             criterion='mse', max_depth=None,\n",
       "                                             max_features='auto',\n",
       "                                             max_leaf_nodes=None,\n",
       "                                             max_samples=None,\n",
       "                                             min_impurity_decrease=0.0,\n",
       "                                             min_impurity_split=None,\n",
       "                                             min_samples_leaf=1,\n",
       "                                             min_samples_split=2,\n",
       "                                             min_weight_fraction_leaf=0.0,\n",
       "                                             n_estimators=100, n_jobs=None,\n",
       "                                             oob_score=False, random_state=42,\n",
       "                                             verbose=0, warm_start=False),\n",
       "             iid='deprecated', n_jobs=None,\n",
       "             param_grid=[{'min_samples_leaf': [4, 6, 8, 10, 12],\n",
       "                          'n_estimators': [50, 100, 150, 200, 250]}],\n",
       "             pre_dispatch='2*n_jobs', refit=True, return_train_score=True,\n",
       "             scoring='neg_mean_squared_error', verbose=0)"
      ]
     },
     "execution_count": 34,
     "metadata": {},
     "output_type": "execute_result"
    }
   ],
   "source": [
    "# Tuning the Random Forest using grid search\n",
    "\n",
    "param_grid_rf = [\n",
    "    {'n_estimators': [50, 100, 150, 200, 250], 'min_samples_leaf': [4, 6, 8, 10, 12]}\n",
    "  ]\n",
    "\n",
    "rf_reg = RandomForestRegressor(random_state=42)\n",
    "\n",
    "grid_search_rf = GridSearchCV(rf_reg, param_grid_rf, cv=5,\n",
    "                              scoring='neg_mean_squared_error', \n",
    "                              return_train_score=True)\n",
    "\n",
    "grid_search_rf.fit(X_train_prepared, y_train)"
   ]
  },
  {
   "cell_type": "code",
   "execution_count": 35,
   "metadata": {},
   "outputs": [
    {
     "data": {
      "text/plain": [
       "{'min_samples_leaf': 6, 'n_estimators': 200}"
      ]
     },
     "execution_count": 35,
     "metadata": {},
     "output_type": "execute_result"
    }
   ],
   "source": [
    "# The best parameters\n",
    "\n",
    "grid_search_rf.best_params_"
   ]
  },
  {
   "cell_type": "code",
   "execution_count": 36,
   "metadata": {},
   "outputs": [
    {
     "name": "stdout",
     "output_type": "stream",
     "text": [
      "19.079382505081607 {'min_samples_leaf': 4, 'n_estimators': 50}\n",
      "19.03990108585652 {'min_samples_leaf': 4, 'n_estimators': 100}\n",
      "19.03388785056463 {'min_samples_leaf': 4, 'n_estimators': 150}\n",
      "19.030274165260064 {'min_samples_leaf': 4, 'n_estimators': 200}\n",
      "19.030959848797615 {'min_samples_leaf': 4, 'n_estimators': 250}\n",
      "19.046525120720435 {'min_samples_leaf': 6, 'n_estimators': 50}\n",
      "19.007987167876433 {'min_samples_leaf': 6, 'n_estimators': 100}\n",
      "19.008238195495505 {'min_samples_leaf': 6, 'n_estimators': 150}\n",
      "19.004340025419786 {'min_samples_leaf': 6, 'n_estimators': 200}\n",
      "19.00634239086071 {'min_samples_leaf': 6, 'n_estimators': 250}\n",
      "19.122425580233774 {'min_samples_leaf': 8, 'n_estimators': 50}\n",
      "19.087963224127755 {'min_samples_leaf': 8, 'n_estimators': 100}\n",
      "19.090999659559834 {'min_samples_leaf': 8, 'n_estimators': 150}\n",
      "19.09186781028765 {'min_samples_leaf': 8, 'n_estimators': 200}\n",
      "19.08926719583649 {'min_samples_leaf': 8, 'n_estimators': 250}\n",
      "19.286543070431765 {'min_samples_leaf': 10, 'n_estimators': 50}\n",
      "19.261612881852457 {'min_samples_leaf': 10, 'n_estimators': 100}\n",
      "19.26283699535434 {'min_samples_leaf': 10, 'n_estimators': 150}\n",
      "19.259153306042386 {'min_samples_leaf': 10, 'n_estimators': 200}\n",
      "19.254724968946626 {'min_samples_leaf': 10, 'n_estimators': 250}\n",
      "19.464572739058966 {'min_samples_leaf': 12, 'n_estimators': 50}\n",
      "19.436132861689142 {'min_samples_leaf': 12, 'n_estimators': 100}\n",
      "19.445899545753498 {'min_samples_leaf': 12, 'n_estimators': 150}\n",
      "19.443499079238062 {'min_samples_leaf': 12, 'n_estimators': 200}\n",
      "19.439881611415295 {'min_samples_leaf': 12, 'n_estimators': 250}\n"
     ]
    }
   ],
   "source": [
    "# The combinations of the RMSEs and parameters\n",
    "# For the parameters {'min_samples_leaf': 6, 'n_estimators': 200}: the RMSE is approximately 19.00\n",
    "\n",
    "cvres = grid_search_rf.cv_results_\n",
    "for mean_score, params in zip(cvres[\"mean_test_score\"], cvres[\"params\"]):\n",
    "    print(np.sqrt(-mean_score), params)"
   ]
  },
  {
   "cell_type": "code",
   "execution_count": 37,
   "metadata": {},
   "outputs": [
    {
     "data": {
      "text/plain": [
       "array([0.06848618, 0.06834473, 0.06761633, 0.06667225, 0.06724722,\n",
       "       0.06866159, 0.05509263, 0.01846988, 0.01102979, 0.00590171,\n",
       "       0.00366679, 0.00108589, 0.00161279, 0.00130315, 0.00111073,\n",
       "       0.00197664, 0.08684331, 0.0977613 , 0.00615987, 0.01301732,\n",
       "       0.0282773 , 0.04432329, 0.05591351, 0.06303166, 0.03649072,\n",
       "       0.00357041, 0.00096109, 0.0015674 , 0.00209799, 0.00448191,\n",
       "       0.02473764, 0.004029  , 0.00314549, 0.00054812, 0.0036569 ,\n",
       "       0.00153328, 0.00167038, 0.00110422, 0.00244202, 0.00084706,\n",
       "       0.00046773, 0.0009091 , 0.00213367])"
      ]
     },
     "execution_count": 37,
     "metadata": {},
     "output_type": "execute_result"
    }
   ],
   "source": [
    "# Feature importances\n",
    "\n",
    "feature_importances = grid_search_rf.best_estimator_.feature_importances_\n",
    "feature_importances"
   ]
  },
  {
   "cell_type": "code",
   "execution_count": 38,
   "metadata": {},
   "outputs": [
    {
     "data": {
      "text/plain": [
       "array(['hour_0', 'hour_1', 'hour_2', 'hour_3', 'hour_4', 'hour_5',\n",
       "       'hour_6', 'hour_7', 'hour_8', 'hour_9', 'hour_10', 'hour_11',\n",
       "       'hour_12', 'hour_13', 'hour_14', 'hour_15', 'hour_16', 'hour_17',\n",
       "       'hour_18', 'hour_19', 'hour_20', 'hour_21', 'hour_22', 'hour_23',\n",
       "       'day_0', 'day_1', 'day_2', 'day_3', 'day_4', 'day_5', 'day_6',\n",
       "       'month_1', 'month_2', 'month_3', 'month_4', 'month_5', 'month_6',\n",
       "       'month_7', 'month_8', 'month_9', 'month_10', 'month_11',\n",
       "       'month_12'], dtype=object)"
      ]
     },
     "execution_count": 38,
     "metadata": {},
     "output_type": "execute_result"
    }
   ],
   "source": [
    "# Get the names of the features\n",
    "# The order of the OneHotEncoder categories: 'hour' categories, 'day_of_week' categories, 'month' categories\n",
    "\n",
    "cat_encoder = pipeline.named_transformers_['cat']\n",
    "attributes = cat_encoder.get_feature_names(['hour', 'day', 'month'])\n",
    "attributes"
   ]
  },
  {
   "cell_type": "code",
   "execution_count": 39,
   "metadata": {},
   "outputs": [
    {
     "data": {
      "text/plain": [
       "[(0.09776130465956742, 'hour_17'),\n",
       " (0.08684331489668234, 'hour_16'),\n",
       " (0.06866158925228412, 'hour_5'),\n",
       " (0.0684861830966426, 'hour_0'),\n",
       " (0.0683447298009628, 'hour_1'),\n",
       " (0.0676163258002689, 'hour_2'),\n",
       " (0.06724722080291025, 'hour_4'),\n",
       " (0.06667225450172239, 'hour_3'),\n",
       " (0.06303166218025938, 'hour_23'),\n",
       " (0.05591350545127864, 'hour_22'),\n",
       " (0.05509263472042309, 'hour_6'),\n",
       " (0.04432328851912717, 'hour_21'),\n",
       " (0.03649071733797256, 'day_0'),\n",
       " (0.028277304981650486, 'hour_20'),\n",
       " (0.024737644308281986, 'day_6'),\n",
       " (0.018469875377937515, 'hour_7'),\n",
       " (0.013017319934451248, 'hour_19'),\n",
       " (0.011029790282930482, 'hour_8'),\n",
       " (0.0061598712574851165, 'hour_18'),\n",
       " (0.005901707151658853, 'hour_9'),\n",
       " (0.0044819065959154835, 'day_5'),\n",
       " (0.004028997632055776, 'month_1'),\n",
       " (0.0036667940954070283, 'hour_10'),\n",
       " (0.0036568962260634975, 'month_4'),\n",
       " (0.0035704127591010765, 'day_1'),\n",
       " (0.0031454904146099283, 'month_2'),\n",
       " (0.0024420155977484285, 'month_8'),\n",
       " (0.002133667697681742, 'month_12'),\n",
       " (0.0020979920033393656, 'day_4'),\n",
       " (0.0019766369353934293, 'hour_15'),\n",
       " (0.001670379020384565, 'month_6'),\n",
       " (0.0016127912163628713, 'hour_12'),\n",
       " (0.0015674031371576333, 'day_3'),\n",
       " (0.0015332766354909236, 'month_5'),\n",
       " (0.00130315233871777, 'hour_13'),\n",
       " (0.001110734830464083, 'hour_14'),\n",
       " (0.0011042183083718848, 'month_7'),\n",
       " (0.0010858866868765705, 'hour_11'),\n",
       " (0.0009610932285832294, 'day_2'),\n",
       " (0.0009091049893074376, 'month_11'),\n",
       " (0.0008470606985115722, 'month_9'),\n",
       " (0.0005481178577956008, 'month_3'),\n",
       " (0.0004677267801628603, 'month_10')]"
      ]
     },
     "execution_count": 39,
     "metadata": {},
     "output_type": "execute_result"
    }
   ],
   "source": [
    "# Sorted feature importances\n",
    "\n",
    "sorted(zip(feature_importances, attributes), reverse=True)"
   ]
  },
  {
   "cell_type": "code",
   "execution_count": 40,
   "metadata": {},
   "outputs": [],
   "source": [
    "# The best Random Forest model\n",
    "\n",
    "best_rf = grid_search_rf.best_estimator_"
   ]
  },
  {
   "cell_type": "code",
   "execution_count": 41,
   "metadata": {},
   "outputs": [
    {
     "name": "stdout",
     "output_type": "stream",
     "text": [
      "17.588159600968634\n"
     ]
    }
   ],
   "source": [
    "# Training error\n",
    "\n",
    "rf_rmse = compute_rmse(best_rf, X_train_prepared, y_train)\n",
    "print(rf_rmse)"
   ]
  },
  {
   "cell_type": "markdown",
   "metadata": {},
   "source": [
    "After tuning the random forest model, the scores for the training set and validation sets are much closer (17.59 and 19.00 respectively). These results are better than the results for most other models and are comparable with the scores for the Polynomial Regression (17.41 for the whole training set and 18.64 for cross-validation)."
   ]
  },
  {
   "cell_type": "markdown",
   "metadata": {},
   "source": [
    "The following models showed the best performance: **Polynomial Regression (degree=2)** and **Random Forest Regression (n_estimators=200, min_samples_leaf=6)**"
   ]
  },
  {
   "cell_type": "markdown",
   "metadata": {},
   "source": [
    "## Evaluate two best models on the test set"
   ]
  },
  {
   "cell_type": "markdown",
   "metadata": {},
   "source": [
    "### Polynomial Regression generalization error"
   ]
  },
  {
   "cell_type": "code",
   "execution_count": 42,
   "metadata": {},
   "outputs": [
    {
     "data": {
      "text/plain": [
       "18.946873443155226"
      ]
     },
     "execution_count": 42,
     "metadata": {},
     "output_type": "execute_result"
    }
   ],
   "source": [
    "# Test error\n",
    "\n",
    "poly_test_pred = poly_reg.predict(poly_features.transform(X_test_prepared))\n",
    "poly_test_mse = mean_squared_error(y_test, poly_test_pred)\n",
    "poly_test_rmse = np.sqrt(poly_test_mse)\n",
    "poly_test_rmse"
   ]
  },
  {
   "cell_type": "code",
   "execution_count": 43,
   "metadata": {},
   "outputs": [
    {
     "data": {
      "text/plain": [
       "array([17.45772683, 20.32721822])"
      ]
     },
     "execution_count": 43,
     "metadata": {},
     "output_type": "execute_result"
    }
   ],
   "source": [
    "# 95% Confidence interval for the test RMSE\n",
    "\n",
    "from scipy import stats\n",
    "\n",
    "confidence = 0.95\n",
    "squared_errors = (poly_test_pred - y_test) ** 2\n",
    "\n",
    "np.sqrt(stats.t.interval(confidence, len(squared_errors) - 1,\n",
    "                         loc=squared_errors.mean(),\n",
    "                         scale=stats.sem(squared_errors)))"
   ]
  },
  {
   "cell_type": "code",
   "execution_count": 44,
   "metadata": {},
   "outputs": [
    {
     "data": {
      "text/plain": [
       "0.24866303157648256"
      ]
     },
     "execution_count": 44,
     "metadata": {},
     "output_type": "execute_result"
    }
   ],
   "source": [
    "# NRMSE\n",
    "# The estimates are off by an average of 24.9%\n",
    "\n",
    "poly_test_nrmse = poly_test_rmse / y_test.mean()\n",
    "poly_test_nrmse"
   ]
  },
  {
   "cell_type": "markdown",
   "metadata": {},
   "source": [
    "### Random Forest Regression generalization error"
   ]
  },
  {
   "cell_type": "code",
   "execution_count": 45,
   "metadata": {},
   "outputs": [
    {
     "data": {
      "text/plain": [
       "19.348793111044774"
      ]
     },
     "execution_count": 45,
     "metadata": {},
     "output_type": "execute_result"
    }
   ],
   "source": [
    "# Test error\n",
    "\n",
    "rf_test_pred = best_rf.predict(X_test_prepared)\n",
    "rf_test_mse = mean_squared_error(y_test, rf_test_pred)\n",
    "rf_test_rmse = np.sqrt(rf_test_mse)\n",
    "rf_test_rmse"
   ]
  },
  {
   "cell_type": "code",
   "execution_count": 46,
   "metadata": {},
   "outputs": [
    {
     "data": {
      "text/plain": [
       "array([17.84880685, 20.7405806 ])"
      ]
     },
     "execution_count": 46,
     "metadata": {},
     "output_type": "execute_result"
    }
   ],
   "source": [
    "# 95% Confidence interval for the test RMSE\n",
    "\n",
    "confidence = 0.95\n",
    "squared_errors = (rf_test_pred - y_test) ** 2\n",
    "\n",
    "np.sqrt(stats.t.interval(confidence, len(squared_errors) - 1,\n",
    "                         loc=squared_errors.mean(),\n",
    "                         scale=stats.sem(squared_errors)))"
   ]
  },
  {
   "cell_type": "code",
   "execution_count": 47,
   "metadata": {},
   "outputs": [
    {
     "data": {
      "text/plain": [
       "0.2539379157608034"
      ]
     },
     "execution_count": 47,
     "metadata": {},
     "output_type": "execute_result"
    }
   ],
   "source": [
    "# NRMSE\n",
    "# The estimates are off by an average of 25.4%\n",
    "\n",
    "rf_test_nrmse = rf_test_rmse / y_test.mean()\n",
    "rf_test_nrmse"
   ]
  },
  {
   "cell_type": "markdown",
   "metadata": {},
   "source": [
    "**The results for two models are close. The Polynomial Regression Model performed slightly better, it can be chosen as a final model.**"
   ]
  },
  {
   "cell_type": "markdown",
   "metadata": {},
   "source": [
    "## Full pipeline for the Polynomial Regression model"
   ]
  },
  {
   "cell_type": "code",
   "execution_count": 48,
   "metadata": {},
   "outputs": [
    {
     "data": {
      "text/plain": [
       "Pipeline(memory=None,\n",
       "         steps=[('encoder',\n",
       "                 OneHotEncoder(categories='auto', drop=None,\n",
       "                               dtype=<class 'numpy.float64'>,\n",
       "                               handle_unknown='error', sparse=True)),\n",
       "                ('poly_features',\n",
       "                 PolynomialFeatures(degree=2, include_bias=True,\n",
       "                                    interaction_only=False, order='C')),\n",
       "                ('lin_reg',\n",
       "                 LinearRegression(copy_X=True, fit_intercept=True, n_jobs=None,\n",
       "                                  normalize=False))],\n",
       "         verbose=False)"
      ]
     },
     "execution_count": 48,
     "metadata": {},
     "output_type": "execute_result"
    }
   ],
   "source": [
    "# Full pipeline (including encoding and model)\n",
    "\n",
    "polynomial_regression = Pipeline([\n",
    "        ('encoder', OneHotEncoder()),\n",
    "        ('poly_features', PolynomialFeatures(degree=2)),\n",
    "        ('lin_reg', LinearRegression())\n",
    "    ])\n",
    "\n",
    "polynomial_regression.fit(X_train, y_train)"
   ]
  },
  {
   "cell_type": "markdown",
   "metadata": {},
   "source": [
    "### Predictions - Example"
   ]
  },
  {
   "cell_type": "markdown",
   "metadata": {},
   "source": [
    "**Predict hourly counts of vehicles in the speed bin \"40 km/hr and higher\" for November 6, 2020 (if city traffic is back to normal)**"
   ]
  },
  {
   "cell_type": "code",
   "execution_count": 49,
   "metadata": {},
   "outputs": [
    {
     "data": {
      "text/html": [
       "<div>\n",
       "<style scoped>\n",
       "    .dataframe tbody tr th:only-of-type {\n",
       "        vertical-align: middle;\n",
       "    }\n",
       "\n",
       "    .dataframe tbody tr th {\n",
       "        vertical-align: top;\n",
       "    }\n",
       "\n",
       "    .dataframe thead th {\n",
       "        text-align: right;\n",
       "    }\n",
       "</style>\n",
       "<table border=\"1\" class=\"dataframe\">\n",
       "  <thead>\n",
       "    <tr style=\"text-align: right;\">\n",
       "      <th></th>\n",
       "      <th>hour</th>\n",
       "      <th>day_of_week</th>\n",
       "      <th>month</th>\n",
       "    </tr>\n",
       "  </thead>\n",
       "  <tbody>\n",
       "    <tr>\n",
       "      <th>0</th>\n",
       "      <td>0</td>\n",
       "      <td>5</td>\n",
       "      <td>11</td>\n",
       "    </tr>\n",
       "    <tr>\n",
       "      <th>1</th>\n",
       "      <td>1</td>\n",
       "      <td>5</td>\n",
       "      <td>11</td>\n",
       "    </tr>\n",
       "    <tr>\n",
       "      <th>2</th>\n",
       "      <td>2</td>\n",
       "      <td>5</td>\n",
       "      <td>11</td>\n",
       "    </tr>\n",
       "    <tr>\n",
       "      <th>3</th>\n",
       "      <td>3</td>\n",
       "      <td>5</td>\n",
       "      <td>11</td>\n",
       "    </tr>\n",
       "    <tr>\n",
       "      <th>4</th>\n",
       "      <td>4</td>\n",
       "      <td>5</td>\n",
       "      <td>11</td>\n",
       "    </tr>\n",
       "  </tbody>\n",
       "</table>\n",
       "</div>"
      ],
      "text/plain": [
       "   hour  day_of_week  month\n",
       "0     0            5     11\n",
       "1     1            5     11\n",
       "2     2            5     11\n",
       "3     3            5     11\n",
       "4     4            5     11"
      ]
     },
     "execution_count": 49,
     "metadata": {},
     "output_type": "execute_result"
    }
   ],
   "source": [
    "# Create input data: all hour values (from 0 to 23), Friday (value=5), October (value=11)\n",
    "\n",
    "data = pd.DataFrame({'hour': np.arange(24)})\n",
    "data['day_of_week'] = 5\n",
    "data['month'] = 11\n",
    "data.head()"
   ]
  },
  {
   "cell_type": "code",
   "execution_count": 50,
   "metadata": {},
   "outputs": [
    {
     "data": {
      "text/plain": [
       "array([ 17.06497831,  10.18475671,   6.92458135,   6.00039795,\n",
       "         5.13635666,  22.21059567,  45.30920494, 103.22462927,\n",
       "       153.42599145, 114.12004897, 127.89567124, 145.52543633,\n",
       "       144.26587177, 138.11340227, 136.38974616, 139.02924801,\n",
       "       172.26961877, 175.16084924, 136.89602438,  97.35945128,\n",
       "        74.29409191,  60.22854153,  42.71855303,  35.11288854])"
      ]
     },
     "execution_count": 50,
     "metadata": {},
     "output_type": "execute_result"
    }
   ],
   "source": [
    "# Predict the 'over_40' values using full pipeline\n",
    "\n",
    "predictions = polynomial_regression.predict(data)\n",
    "predictions"
   ]
  },
  {
   "cell_type": "code",
   "execution_count": 51,
   "metadata": {},
   "outputs": [
    {
     "data": {
      "text/html": [
       "<div>\n",
       "<style scoped>\n",
       "    .dataframe tbody tr th:only-of-type {\n",
       "        vertical-align: middle;\n",
       "    }\n",
       "\n",
       "    .dataframe tbody tr th {\n",
       "        vertical-align: top;\n",
       "    }\n",
       "\n",
       "    .dataframe thead th {\n",
       "        text-align: right;\n",
       "    }\n",
       "</style>\n",
       "<table border=\"1\" class=\"dataframe\">\n",
       "  <thead>\n",
       "    <tr style=\"text-align: right;\">\n",
       "      <th></th>\n",
       "      <th>hour</th>\n",
       "      <th>day_of_week</th>\n",
       "      <th>month</th>\n",
       "      <th>over_40</th>\n",
       "    </tr>\n",
       "  </thead>\n",
       "  <tbody>\n",
       "    <tr>\n",
       "      <th>0</th>\n",
       "      <td>0</td>\n",
       "      <td>5</td>\n",
       "      <td>11</td>\n",
       "      <td>17</td>\n",
       "    </tr>\n",
       "    <tr>\n",
       "      <th>1</th>\n",
       "      <td>1</td>\n",
       "      <td>5</td>\n",
       "      <td>11</td>\n",
       "      <td>10</td>\n",
       "    </tr>\n",
       "    <tr>\n",
       "      <th>2</th>\n",
       "      <td>2</td>\n",
       "      <td>5</td>\n",
       "      <td>11</td>\n",
       "      <td>7</td>\n",
       "    </tr>\n",
       "    <tr>\n",
       "      <th>3</th>\n",
       "      <td>3</td>\n",
       "      <td>5</td>\n",
       "      <td>11</td>\n",
       "      <td>6</td>\n",
       "    </tr>\n",
       "    <tr>\n",
       "      <th>4</th>\n",
       "      <td>4</td>\n",
       "      <td>5</td>\n",
       "      <td>11</td>\n",
       "      <td>5</td>\n",
       "    </tr>\n",
       "    <tr>\n",
       "      <th>5</th>\n",
       "      <td>5</td>\n",
       "      <td>5</td>\n",
       "      <td>11</td>\n",
       "      <td>22</td>\n",
       "    </tr>\n",
       "    <tr>\n",
       "      <th>6</th>\n",
       "      <td>6</td>\n",
       "      <td>5</td>\n",
       "      <td>11</td>\n",
       "      <td>45</td>\n",
       "    </tr>\n",
       "    <tr>\n",
       "      <th>7</th>\n",
       "      <td>7</td>\n",
       "      <td>5</td>\n",
       "      <td>11</td>\n",
       "      <td>103</td>\n",
       "    </tr>\n",
       "    <tr>\n",
       "      <th>8</th>\n",
       "      <td>8</td>\n",
       "      <td>5</td>\n",
       "      <td>11</td>\n",
       "      <td>153</td>\n",
       "    </tr>\n",
       "    <tr>\n",
       "      <th>9</th>\n",
       "      <td>9</td>\n",
       "      <td>5</td>\n",
       "      <td>11</td>\n",
       "      <td>114</td>\n",
       "    </tr>\n",
       "    <tr>\n",
       "      <th>10</th>\n",
       "      <td>10</td>\n",
       "      <td>5</td>\n",
       "      <td>11</td>\n",
       "      <td>128</td>\n",
       "    </tr>\n",
       "    <tr>\n",
       "      <th>11</th>\n",
       "      <td>11</td>\n",
       "      <td>5</td>\n",
       "      <td>11</td>\n",
       "      <td>146</td>\n",
       "    </tr>\n",
       "    <tr>\n",
       "      <th>12</th>\n",
       "      <td>12</td>\n",
       "      <td>5</td>\n",
       "      <td>11</td>\n",
       "      <td>144</td>\n",
       "    </tr>\n",
       "    <tr>\n",
       "      <th>13</th>\n",
       "      <td>13</td>\n",
       "      <td>5</td>\n",
       "      <td>11</td>\n",
       "      <td>138</td>\n",
       "    </tr>\n",
       "    <tr>\n",
       "      <th>14</th>\n",
       "      <td>14</td>\n",
       "      <td>5</td>\n",
       "      <td>11</td>\n",
       "      <td>136</td>\n",
       "    </tr>\n",
       "    <tr>\n",
       "      <th>15</th>\n",
       "      <td>15</td>\n",
       "      <td>5</td>\n",
       "      <td>11</td>\n",
       "      <td>139</td>\n",
       "    </tr>\n",
       "    <tr>\n",
       "      <th>16</th>\n",
       "      <td>16</td>\n",
       "      <td>5</td>\n",
       "      <td>11</td>\n",
       "      <td>172</td>\n",
       "    </tr>\n",
       "    <tr>\n",
       "      <th>17</th>\n",
       "      <td>17</td>\n",
       "      <td>5</td>\n",
       "      <td>11</td>\n",
       "      <td>175</td>\n",
       "    </tr>\n",
       "    <tr>\n",
       "      <th>18</th>\n",
       "      <td>18</td>\n",
       "      <td>5</td>\n",
       "      <td>11</td>\n",
       "      <td>137</td>\n",
       "    </tr>\n",
       "    <tr>\n",
       "      <th>19</th>\n",
       "      <td>19</td>\n",
       "      <td>5</td>\n",
       "      <td>11</td>\n",
       "      <td>97</td>\n",
       "    </tr>\n",
       "    <tr>\n",
       "      <th>20</th>\n",
       "      <td>20</td>\n",
       "      <td>5</td>\n",
       "      <td>11</td>\n",
       "      <td>74</td>\n",
       "    </tr>\n",
       "    <tr>\n",
       "      <th>21</th>\n",
       "      <td>21</td>\n",
       "      <td>5</td>\n",
       "      <td>11</td>\n",
       "      <td>60</td>\n",
       "    </tr>\n",
       "    <tr>\n",
       "      <th>22</th>\n",
       "      <td>22</td>\n",
       "      <td>5</td>\n",
       "      <td>11</td>\n",
       "      <td>43</td>\n",
       "    </tr>\n",
       "    <tr>\n",
       "      <th>23</th>\n",
       "      <td>23</td>\n",
       "      <td>5</td>\n",
       "      <td>11</td>\n",
       "      <td>35</td>\n",
       "    </tr>\n",
       "  </tbody>\n",
       "</table>\n",
       "</div>"
      ],
      "text/plain": [
       "    hour  day_of_week  month  over_40\n",
       "0      0            5     11       17\n",
       "1      1            5     11       10\n",
       "2      2            5     11        7\n",
       "3      3            5     11        6\n",
       "4      4            5     11        5\n",
       "5      5            5     11       22\n",
       "6      6            5     11       45\n",
       "7      7            5     11      103\n",
       "8      8            5     11      153\n",
       "9      9            5     11      114\n",
       "10    10            5     11      128\n",
       "11    11            5     11      146\n",
       "12    12            5     11      144\n",
       "13    13            5     11      138\n",
       "14    14            5     11      136\n",
       "15    15            5     11      139\n",
       "16    16            5     11      172\n",
       "17    17            5     11      175\n",
       "18    18            5     11      137\n",
       "19    19            5     11       97\n",
       "20    20            5     11       74\n",
       "21    21            5     11       60\n",
       "22    22            5     11       43\n",
       "23    23            5     11       35"
      ]
     },
     "execution_count": 51,
     "metadata": {},
     "output_type": "execute_result"
    }
   ],
   "source": [
    "# DataFrame  with predictions\n",
    "\n",
    "data_pred = data.copy()\n",
    "data_pred['over_40'] = np.round(predictions).astype(int)\n",
    "data_pred"
   ]
  },
  {
   "cell_type": "code",
   "execution_count": 52,
   "metadata": {},
   "outputs": [
    {
     "data": {
      "text/plain": [
       "Text(0, 0.5, 'over_40')"
      ]
     },
     "execution_count": 52,
     "metadata": {},
     "output_type": "execute_result"
    },
    {
     "data": {
      "image/png": "[encoded data removed]",
      "text/plain": [
       "<Figure size 720x432 with 1 Axes>"
      ]
     },
     "metadata": {
      "needs_background": "light"
     },
     "output_type": "display_data"
    }
   ],
   "source": [
    "# Plot predictions\n",
    "\n",
    "plt.rc('figure', figsize=(10, 6))\n",
    "\n",
    "plt.plot(data_pred['hour'], data_pred['over_40'], 'go--')\n",
    "\n",
    "plt.xlabel('Hour', size=14)\n",
    "plt.ylabel('over_40', size=14)"
   ]
  },
  {
   "cell_type": "markdown",
   "metadata": {},
   "source": [
    "There are peaks in the predicted 'over_40' vehicle counts for this day: between 8am and 9am, and between 4pm and 6pm."
   ]
  }
 ],
 "metadata": {
  "kernelspec": {
   "display_name": "Python 3",
   "language": "python",
   "name": "python3"
  },
  "language_info": {
   "codemirror_mode": {
    "name": "ipython",
    "version": 3
   },
   "file_extension": ".py",
   "mimetype": "text/x-python",
   "name": "python",
   "nbconvert_exporter": "python",
   "pygments_lexer": "ipython3",
   "version": "3.7.6"
  }
 },
 "nbformat": 4,
 "nbformat_minor": 2
}
